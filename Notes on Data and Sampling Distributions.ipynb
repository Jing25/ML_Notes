{
 "cells": [
  {
   "cell_type": "markdown",
   "metadata": {},
   "source": [
    "## Normal Distribution\n",
    "\n",
    "$$f(\\mu, \\sigma^2) = \\frac{1}{\\sqrt{2\\pi \\sigma^2}} e^{-\\frac{(x-\\mu)^2}{2\\sigma^2}}$$\n",
    "__Why useful:__\n",
    "-  Many natual phenomena follow normal distributions.\n",
    "-  From central limit theorem, many statistics are normally distributed in their sampling distribution.\n",
    "-  Simply. Only needs two parameters: mean and variance, to specify the distribution. Mean, median and mode are the same.\n",
    "\n",
    "**Note:** While raw data is typically not normally distributed, errors often are, as are averages and totals in large samples.\n",
    "\n",
    "__Standard normal distribution:__\n",
    "-  The units on the x-axis are expressed in terms of standard deviations away from the mean.\n",
    "-  To compare data to a standard normal distribution, you subtract the mean then divide by the standard deviation; thisis called **normalization** or **standardization**\n",
    "-  The transformed value is termed a **z-score**, and the normal distribution is sometimes called the **z-distribution**\n",
    "\n",
    "<span style='color: red'>**QQ-plot:**</span>\n"
   ]
  },
  {
   "cell_type": "markdown",
   "metadata": {},
   "source": [
    "## Student's t-distribution\n",
    "\n",
    "$$t = \\frac{\\bar{x} - \\mu}{\\sigma /\\sqrt{n}}$$\n",
    "where $\\bar{x}$ is the sample mean, $\\mu$ is the population mean, $\\sigma$ is the standard deviation of the sample and n is the sample size. The **degrees of freedom** are equal to n-1.\n",
    "\n",
    "**When to use:**\n",
    "- A probability distribution that is used to estimate population parameters when the sample size is small and/or when the population variance is unknown.\n",
    "- Can be used when the population distribution is normal."
   ]
  },
  {
   "attachments": {},
   "cell_type": "markdown",
   "metadata": {},
   "source": [
    "## Binomial Distribution\n",
    "\n",
    "Distribution of number of successes in n _yes-no_ independent experiments (trails), with p probability of yes and 1-p probability of no.\n",
    "\n",
    "The **Bernoulli distribution** is a special case of the binomial distribution where a single trail is conducted.\n",
    "\n",
    "**Note:** With large n, and p is not too close to 0 or 1, the binomial distribution can be approximated by the normal distribution. \n",
    "\n",
    "## Poisson Distribution\n",
    "\n",
    "A discrete probability distribution that expresses the probability of a given number of events occurring in a fixed interval of time or space if:\n",
    "- these events occur with a known constant rate\n",
    "- independently\n",
    "\n",
    "Parameter: $\\lambda$, mean number of events that occurs in a specified interal of time or space, etc.\n",
    "\n",
    "<img src=\"imgs/poisson.png\" alt=\"poisson distribution\" style=\"width: 300px;\"/>\n",
    "\n",
    "The horizontal axis is the index k, the number of occurrences. The vertical axis is the probability of k occurrences given $\\lambda$. **Note:** The function is defined only at integer values of k. The connecting lines are only guides for the eye.\n",
    "\n",
    "## Exponential Distribution\n",
    "\n",
    "The probability distribution that describes the time between events in a Poisson point process, i.e., a process in which events occur continuously and independently at a constant average rate. \n",
    "\n",
    "**Notes:** memoryless; has the same parameter $\\lambda$ as Poisson distribution."
   ]
  }
 ],
 "metadata": {
  "kernelspec": {
   "display_name": "Python 3",
   "language": "python",
   "name": "python3"
  },
  "language_info": {
   "codemirror_mode": {
    "name": "ipython",
    "version": 3
   },
   "file_extension": ".py",
   "mimetype": "text/x-python",
   "name": "python",
   "nbconvert_exporter": "python",
   "pygments_lexer": "ipython3",
   "version": "3.6.1"
  }
 },
 "nbformat": 4,
 "nbformat_minor": 2
}
