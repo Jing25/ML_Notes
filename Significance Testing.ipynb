{
 "cells": [
  {
   "cell_type": "markdown",
   "metadata": {},
   "source": [
    "Classical statistical inference \"pipeline\": A hypothesis (\"drug A is better than the existing standard drug\") -> An experiment (e.g. A/B test) designed to test the hypothesis -> colect data -> inference/conclusions \n",
    "\n",
    "__Significance tests__ are used to determine whether an observed effect is within the range of chance variation for a null hypothesis model. \"Big data\" does not require statistical\n",
    "significance tests.\n",
    "\n",
    "__P-value:__ The probability that, given a chance model that embodies the null hypothesis, results as extreme as the observed results could occur. For a data scientist, a p-value is a useful metric in situations where you want to know whether a model result that appears interesing and useful is within the range of normal chance variability.\n",
    "\n",
    "## A/B test\n",
    "_[To be continue]_\n",
    "\n",
    "__Type 1 error__: mistakenly conclude that an effect is real, when it is due to chance\n",
    "\n",
    "__Type 2 error__: mistakenly conclude that an effect is due to chance, when it is real\n",
    "\n",
    "\n",
    "\n",
    "\n"
   ]
  },
  {
   "cell_type": "code",
   "execution_count": null,
   "metadata": {
    "collapsed": true
   },
   "outputs": [],
   "source": []
  }
 ],
 "metadata": {
  "kernelspec": {
   "display_name": "Python 3",
   "language": "python",
   "name": "python3"
  },
  "language_info": {
   "codemirror_mode": {
    "name": "ipython",
    "version": 3
   },
   "file_extension": ".py",
   "mimetype": "text/x-python",
   "name": "python",
   "nbconvert_exporter": "python",
   "pygments_lexer": "ipython3",
   "version": "3.6.1"
  }
 },
 "nbformat": 4,
 "nbformat_minor": 2
}
